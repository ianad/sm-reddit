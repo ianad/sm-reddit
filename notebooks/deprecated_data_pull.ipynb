{
 "cells": [
  {
   "cell_type": "code",
   "execution_count": null,
   "metadata": {},
   "outputs": [],
   "source": [
    "import praw\n",
    "import pandas as pd\n",
    "from bs4 import BeautifulSoup\n",
    "import requests\n",
    "from _secrets import user_agent, client_id, client_secret\n",
    "from tqdm import tqdm"
   ]
  },
  {
   "cell_type": "code",
   "execution_count": null,
   "metadata": {},
   "outputs": [],
   "source": [
    "reddit = praw.Reddit(user_agent=user_agent,\n",
    "                     client_id=client_id,\n",
    "                     client_secret=client_secret)"
   ]
  },
  {
   "cell_type": "code",
   "execution_count": null,
   "metadata": {},
   "outputs": [],
   "source": [
    "gaming_wiki_content = reddit.subreddit('gaming').wiki['list-sorted-by-subscribers'].content_html\n",
    "soup = BeautifulSoup(gaming_wiki_content)"
   ]
  },
  {
   "cell_type": "code",
   "execution_count": null,
   "metadata": {},
   "outputs": [],
   "source": [
    "tables = soup.find_all('table')\n",
    "table = tables[0]"
   ]
  },
  {
   "cell_type": "code",
   "execution_count": null,
   "metadata": {},
   "outputs": [],
   "source": [
    "list_of_tables = [pd.read_html(str(table))[0] for table in tables]"
   ]
  },
  {
   "cell_type": "markdown",
   "metadata": {},
   "source": [
    "Label tables for categorization later"
   ]
  },
  {
   "cell_type": "code",
   "execution_count": null,
   "metadata": {},
   "outputs": [],
   "source": [
    "for table_num,table in enumerate(list_of_tables):\n",
    "    table['table_number'] = table_num"
   ]
  },
  {
   "cell_type": "code",
   "execution_count": null,
   "metadata": {},
   "outputs": [],
   "source": [
    "subreddits = pd.concat(list_of_tables)"
   ]
  },
  {
   "cell_type": "code",
   "execution_count": null,
   "metadata": {},
   "outputs": [],
   "source": [
    "subreddits.sample(9)"
   ]
  },
  {
   "cell_type": "code",
   "execution_count": null,
   "metadata": {},
   "outputs": [],
   "source": [
    "subreddits['display_name'] = subreddits['Link'].str.split('/', expand=True)[2]"
   ]
  },
  {
   "cell_type": "code",
   "execution_count": null,
   "metadata": {},
   "outputs": [],
   "source": [
    "subreddits['https_Link'] = \"https://reddit.com\"+subreddits['Link']"
   ]
  },
  {
   "cell_type": "code",
   "execution_count": null,
   "metadata": {},
   "outputs": [],
   "source": [
    "subreddits.rename(columns={'Subscribers':'reported_Subscribers', 'Name':'label'}, inplace=True)"
   ]
  },
  {
   "cell_type": "raw",
   "metadata": {},
   "source": [
    "subreddits['id'] = reddit.subreddit(subreddits['display_name']).name"
   ]
  },
  {
   "cell_type": "raw",
   "metadata": {},
   "source": [
    "reddit.subreddit('leagueoflegends').title"
   ]
  },
  {
   "cell_type": "raw",
   "metadata": {},
   "source": [
    "[reddit.subreddit(display_name).name for display_name in subreddits['display_name']]"
   ]
  },
  {
   "cell_type": "code",
   "execution_count": null,
   "metadata": {},
   "outputs": [],
   "source": [
    "subreddits.sample(9)"
   ]
  },
  {
   "cell_type": "markdown",
   "metadata": {},
   "source": [
    "Inefficient building of fetched subreddit-level metadata.."
   ]
  },
  {
   "cell_type": "code",
   "execution_count": null,
   "metadata": {},
   "outputs": [],
   "source": [
    "df = pd.DataFrame()\n",
    "for display_name in subreddits['display_name']:\n",
    "    subreddit = reddit.subreddit(display_name)\n",
    "    try:\n",
    "        subreddit._fetch()\n",
    "    except Exception as e:\n",
    "        print(display_name, e)\n",
    "    else:\n",
    "        df = df.append({\n",
    "            'display_name':subreddit.display_name,\n",
    "            'subscribers':subreddit.subscribers,\n",
    "            'name':subreddit.name,\n",
    "            'id':subreddit.id\n",
    "        }, ignore_index=True)"
   ]
  },
  {
   "cell_type": "code",
   "execution_count": null,
   "metadata": {},
   "outputs": [],
   "source": [
    "subreddits = subreddits.merge(df, on='display_name')"
   ]
  },
  {
   "cell_type": "code",
   "execution_count": null,
   "metadata": {},
   "outputs": [],
   "source": [
    "subreddits.head()"
   ]
  },
  {
   "cell_type": "markdown",
   "metadata": {},
   "source": [
    "testing efficiency..."
   ]
  },
  {
   "cell_type": "raw",
   "metadata": {},
   "source": [
    "%timeit()\n",
    "try: subreddit._fetch()\n",
    "except: pass"
   ]
  },
  {
   "cell_type": "raw",
   "metadata": {},
   "source": [
    "%timeit()\n",
    "try: subreddit.name\n",
    "except: pass"
   ]
  },
  {
   "cell_type": "raw",
   "metadata": {},
   "source": [
    "%timeit()\n",
    "try:\n",
    "    df = df.append({\n",
    "        'display_name':subreddit.display_name,\n",
    "        'subscribers':subreddit.subscribers,\n",
    "        'name':subreddit.name,\n",
    "        'id':subreddit.id,\n",
    "        'title':subreddit.title\n",
    "    }, ignore_index=True)\n",
    "except: pass"
   ]
  },
  {
   "cell_type": "markdown",
   "metadata": {},
   "source": [
    "What other subreddit-level metadata can we fetch?"
   ]
  },
  {
   "cell_type": "code",
   "execution_count": null,
   "metadata": {},
   "outputs": [],
   "source": [
    "hi = reddit.subreddit('hellointernet')"
   ]
  },
  {
   "cell_type": "code",
   "execution_count": null,
   "metadata": {},
   "outputs": [],
   "source": [
    "dir(hi)"
   ]
  },
  {
   "cell_type": "markdown",
   "metadata": {},
   "source": [
    "### Output subreddits table"
   ]
  },
  {
   "cell_type": "code",
   "execution_count": null,
   "metadata": {},
   "outputs": [],
   "source": [
    "subreddits.to_csv(\"subreddits.csv\", index=False)"
   ]
  },
  {
   "cell_type": "markdown",
   "metadata": {},
   "source": [
    "# Build submissions database"
   ]
  },
  {
   "cell_type": "raw",
   "metadata": {},
   "source": [
    "dir([c for c in hi.comments()][0])"
   ]
  },
  {
   "cell_type": "markdown",
   "metadata": {},
   "source": [
    "submission-level metadata?"
   ]
  },
  {
   "cell_type": "code",
   "execution_count": null,
   "metadata": {},
   "outputs": [],
   "source": [
    "dir(submission)"
   ]
  },
  {
   "cell_type": "code",
   "execution_count": null,
   "metadata": {},
   "outputs": [],
   "source": [
    "lol_top = reddit.subreddit('leagueoflegends').top()"
   ]
  },
  {
   "cell_type": "code",
   "execution_count": null,
   "metadata": {},
   "outputs": [],
   "source": [
    "df = pd.DataFrame()\n",
    "for display_name in subreddits['display_name']:\n",
    "    for submission in reddit.subreddit(display_name).top(limit=10):\n",
    "        try:\n",
    "            df = df.append({\n",
    "                'subreddit': submission.subreddit,\n",
    "                'subreddit_id': submission.subreddit_id,\n",
    "                'title': submission.title,\n",
    "                'id': submission.id,\n",
    "                'fullname': submission.fullname,\n",
    "                'name': submission.name,\n",
    "                'author_name': submission.author.name, \n",
    "                'upvotes': submission.ups,\n",
    "                'downvotes': submission.downs,\n",
    "                'score': submission.score, \n",
    "                'num_comments': submission.num_comments, \n",
    "                'gilded': submission.gilded,\n",
    "                'domain': submission.domain, \n",
    "                'likes': submission.likes,\n",
    "                'edited': submission.edited,\n",
    "                'media': submission.media,\n",
    "                'media_embed': submission.media_embed,\n",
    "                'media_only': submission.media_only,\n",
    "                'mod_note': submission.mod_note,\n",
    "                'author_id': submission.author.id,\n",
    "                'author_fullname': submission.author.fullname,\n",
    "                'clicked': submission.clicked,\n",
    "                'selftext': submission.selftext,\n",
    "            }, ignore_index=True )\n",
    "        except Exception as e:\n",
    "            print(submission.fullname, e)"
   ]
  },
  {
   "cell_type": "code",
   "execution_count": null,
   "metadata": {},
   "outputs": [],
   "source": [
    "submissions = df"
   ]
  },
  {
   "cell_type": "code",
   "execution_count": null,
   "metadata": {},
   "outputs": [],
   "source": [
    "submissions.sample(9)"
   ]
  },
  {
   "cell_type": "markdown",
   "metadata": {},
   "source": [
    "### Output submmisions table"
   ]
  },
  {
   "cell_type": "code",
   "execution_count": null,
   "metadata": {},
   "outputs": [],
   "source": [
    "submissions.to_csv(\"submissions.csv\", index=False)"
   ]
  },
  {
   "cell_type": "code",
   "execution_count": null,
   "metadata": {},
   "outputs": [],
   "source": []
  },
  {
   "cell_type": "code",
   "execution_count": null,
   "metadata": {},
   "outputs": [],
   "source": [
    "[(s.title, s.author, s.score, s.id, s.name) for s in hi.top(limit=9)]"
   ]
  },
  {
   "cell_type": "code",
   "execution_count": null,
   "metadata": {},
   "outputs": [],
   "source": [
    "display_name = 'leagueoflegends'\n",
    "for submission in reddit.subreddit(display_name).hot(limit=25):\n",
    "    print((submission.title, submission.author, submission.score, submission.id, submission.name))\n",
    "    "
   ]
  },
  {
   "cell_type": "markdown",
   "metadata": {},
   "source": [
    "available submission-level metadata:"
   ]
  },
  {
   "cell_type": "code",
   "execution_count": null,
   "metadata": {},
   "outputs": [],
   "source": [
    "dir(submission)"
   ]
  },
  {
   "cell_type": "raw",
   "metadata": {},
   "source": [
    "submissions = pd.DataFrame({'title':[]})\n",
    "submissions"
   ]
  },
  {
   "cell_type": "code",
   "execution_count": null,
   "metadata": {},
   "outputs": [],
   "source": [
    "for display_name in subreddits['display_name']:\n",
    "    subreddit = reddit.subreddit(display_name)\n",
    "    try:\n",
    "        new_submissions = [submission.title for submission in subreddit.top(limit=1)]\n",
    "        submissions['title'] = submissions['title'].append(pd.Series(new_submissions), ignore_index=True)\n",
    "    except Exception as e:\n",
    "        print(display_name, e)"
   ]
  },
  {
   "cell_type": "code",
   "execution_count": null,
   "metadata": {},
   "outputs": [],
   "source": [
    "submissions['title'] = submissions['title'].append(pd.Series([s.title for s in reddit.subreddit('HelloInternet').top(limit=1)]), ignore_index=True)"
   ]
  },
  {
   "cell_type": "code",
   "execution_count": null,
   "metadata": {},
   "outputs": [],
   "source": [
    "submissions"
   ]
  },
  {
   "cell_type": "code",
   "execution_count": null,
   "metadata": {},
   "outputs": [],
   "source": []
  },
  {
   "cell_type": "raw",
   "metadata": {},
   "source": [
    "try:\n",
    "    reddit.subreddit('lounge').fetch()\n",
    "except as e:\n",
    "    print(type(e))"
   ]
  },
  {
   "cell_type": "raw",
   "metadata": {},
   "source": [
    "submissions['title'] = [[submission.title for submission in reddit.subreddit(display_name).top(limit=25)] for display_name in subreddits['display_name']]"
   ]
  },
  {
   "cell_type": "raw",
   "metadata": {},
   "source": [
    "for submission in reddit.subreddit('leagueoflegends').top(limit=25):\n",
    "    print(submission.title)\n",
    "    print(submission)"
   ]
  },
  {
   "cell_type": "code",
   "execution_count": null,
   "metadata": {},
   "outputs": [],
   "source": []
  },
  {
   "cell_type": "code",
   "execution_count": null,
   "metadata": {},
   "outputs": [],
   "source": []
  },
  {
   "cell_type": "raw",
   "metadata": {},
   "source": [
    "url = 'https://www.reddit.com/r/gaming/wiki/list-sorted-by-subscribers'\n",
    "page = requests.get(url)\n",
    "page"
   ]
  },
  {
   "cell_type": "raw",
   "metadata": {},
   "source": [
    "soup = BeautifulSoup(page.text)\n",
    "soup"
   ]
  },
  {
   "cell_type": "raw",
   "metadata": {},
   "source": [
    "table = soup.find('table')\n",
    "table"
   ]
  }
 ],
 "metadata": {
  "kernelspec": {
   "display_name": "Python 3",
   "language": "python",
   "name": "python3"
  },
  "language_info": {
   "codemirror_mode": {
    "name": "ipython",
    "version": 3
   },
   "file_extension": ".py",
   "mimetype": "text/x-python",
   "name": "python",
   "nbconvert_exporter": "python",
   "pygments_lexer": "ipython3",
   "version": "3.7.0"
  }
 },
 "nbformat": 4,
 "nbformat_minor": 2
}
