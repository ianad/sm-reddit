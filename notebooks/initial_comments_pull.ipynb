{
 "cells": [
  {
   "cell_type": "code",
   "execution_count": null,
   "metadata": {},
   "outputs": [],
   "source": [
    "import praw\n",
    "from _secrets import user_agent, client_id, client_secret\n",
    "import pandas as pd\n",
    "from tqdm import tqdm"
   ]
  },
  {
   "cell_type": "code",
   "execution_count": null,
   "metadata": {},
   "outputs": [],
   "source": [
    "reddit = praw.Reddit(user_agent=user_agent,\n",
    "                     client_id=client_id,\n",
    "                     client_secret=client_secret)"
   ]
  },
  {
   "cell_type": "markdown",
   "metadata": {},
   "source": [
    "## All submissions\n",
    "\n",
    "1. Loop through all submission IDs,\n",
    "2. Extract first (top voted? earliest?) top-level comment\n",
    "3. create `df` of dict info for these comments"
   ]
  },
  {
   "cell_type": "code",
   "execution_count": null,
   "metadata": {},
   "outputs": [],
   "source": [
    "submission_ids = pd.read_csv('../data/submissions.csv')['id']"
   ]
  },
  {
   "cell_type": "code",
   "execution_count": null,
   "metadata": {},
   "outputs": [],
   "source": [
    "df = pd.DataFrame()\n",
    "for id in tqdm(submission_ids.head(200)):\n",
    "    submission = reddit.submission(id=id)\n",
    "    submission.comments.replace_more(limit=0)\n",
    "    top_comments = [c for c in submission.comments]\n",
    "    \n",
    "    if len(top_comments) == 0:\n",
    "        continue\n",
    "    else:\n",
    "        top_comment = top_comments[0]\n",
    "        df = df.append(top_comment.__dict__, ignore_index=True)\n",
    "    \n",
    "#     try:\n",
    "#         submission.comments.replace_more(limit=0)\n",
    "#     except: continue\n",
    "#     for comment in submission.comments:\n",
    "#         df.append(comment.__dict__, ignore_index=True)        "
   ]
  },
  {
   "cell_type": "code",
   "execution_count": null,
   "metadata": {},
   "outputs": [],
   "source": [
    "df.to_csv('../data/comments.csv')"
   ]
  },
  {
   "cell_type": "markdown",
   "metadata": {},
   "source": [
    "## Selected submission"
   ]
  },
  {
   "cell_type": "raw",
   "metadata": {},
   "source": [
    "submission = [s for s in reddit.subreddit('destinythegame').top(limit=1)][0]"
   ]
  },
  {
   "cell_type": "raw",
   "metadata": {},
   "source": [
    "submission.comments.replace_more(limit=0)\n",
    "comments = [c for c in submission.comments]"
   ]
  },
  {
   "cell_type": "raw",
   "metadata": {},
   "source": [
    "df = pd.DataFrame()\n",
    "for c in comments:\n",
    "    df = df.append(comment.__dict__, ignore_index=True)"
   ]
  },
  {
   "cell_type": "raw",
   "metadata": {},
   "source": [
    "df.columns"
   ]
  },
  {
   "cell_type": "raw",
   "metadata": {},
   "source": [
    "submission.comments.replace_more(limit=0)\n",
    "for top_level_comment in submission.comments:\n",
    "    print(top_level_comment.body, top_level_comment.score)"
   ]
  },
  {
   "cell_type": "raw",
   "metadata": {},
   "source": []
  },
  {
   "cell_type": "raw",
   "metadata": {},
   "source": [
    "post.__dict__"
   ]
  },
  {
   "cell_type": "raw",
   "metadata": {},
   "source": [
    "df = pd.DataFrame()\n",
    "df = df.append(post.__dict__, ignore_index=True)"
   ]
  },
  {
   "cell_type": "raw",
   "metadata": {},
   "source": [
    "df.head()"
   ]
  }
 ],
 "metadata": {
  "kernelspec": {
   "display_name": "Python 3",
   "language": "python",
   "name": "python3"
  },
  "language_info": {
   "codemirror_mode": {
    "name": "ipython",
    "version": 3
   },
   "file_extension": ".py",
   "mimetype": "text/x-python",
   "name": "python",
   "nbconvert_exporter": "python",
   "pygments_lexer": "ipython3",
   "version": "3.6.4"
  }
 },
 "nbformat": 4,
 "nbformat_minor": 4
}
