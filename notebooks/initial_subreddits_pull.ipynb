{
 "cells": [
  {
   "cell_type": "code",
   "execution_count": null,
   "metadata": {},
   "outputs": [],
   "source": [
    "import praw\n",
    "import pandas as pd\n",
    "import numpy as np\n",
    "from bs4 import BeautifulSoup\n",
    "from _secrets import user_agent, client_id, client_secret\n",
    "from tqdm import tqdm"
   ]
  },
  {
   "cell_type": "code",
   "execution_count": null,
   "metadata": {},
   "outputs": [],
   "source": [
    "reddit = praw.Reddit(user_agent=user_agent,\n",
    "                     client_id=client_id,\n",
    "                     client_secret=client_secret)"
   ]
  },
  {
   "cell_type": "markdown",
   "metadata": {},
   "source": [
    "What other subreddit-level metadata can we fetch?"
   ]
  },
  {
   "cell_type": "code",
   "execution_count": null,
   "metadata": {},
   "outputs": [],
   "source": [
    "gaming = reddit.subreddit('gaming')"
   ]
  },
  {
   "cell_type": "code",
   "execution_count": null,
   "metadata": {},
   "outputs": [],
   "source": [
    "print(dir(gaming))"
   ]
  },
  {
   "cell_type": "markdown",
   "metadata": {},
   "source": [
    "# Collect list of gaming subreddits from /r/gaming wiki"
   ]
  },
  {
   "cell_type": "code",
   "execution_count": null,
   "metadata": {},
   "outputs": [],
   "source": [
    "gaming_wiki_content = reddit.subreddit('gaming').wiki['list-sorted-by-subscribers'].content_html\n",
    "soup = BeautifulSoup(gaming_wiki_content)"
   ]
  },
  {
   "cell_type": "markdown",
   "metadata": {},
   "source": [
    "Use BeautifulSoup to collect all of the tables on the gaming wiki page"
   ]
  },
  {
   "cell_type": "code",
   "execution_count": null,
   "metadata": {},
   "outputs": [],
   "source": [
    "tables = soup.find_all('table')\n",
    "table = tables[0]"
   ]
  },
  {
   "cell_type": "code",
   "execution_count": null,
   "metadata": {},
   "outputs": [],
   "source": [
    "list_of_tables = [pd.read_html(str(table))[0] for table in tables]"
   ]
  },
  {
   "cell_type": "markdown",
   "metadata": {},
   "source": [
    "Label tables for categorization later"
   ]
  },
  {
   "cell_type": "code",
   "execution_count": null,
   "metadata": {},
   "outputs": [],
   "source": [
    "for table_num,table in enumerate(list_of_tables):\n",
    "    table['table_number'] = table_num"
   ]
  },
  {
   "cell_type": "code",
   "execution_count": null,
   "metadata": {},
   "outputs": [],
   "source": [
    "subreddits = pd.concat(list_of_tables)"
   ]
  },
  {
   "cell_type": "code",
   "execution_count": null,
   "metadata": {},
   "outputs": [],
   "source": [
    "subreddits.sample(9)"
   ]
  },
  {
   "cell_type": "code",
   "execution_count": null,
   "metadata": {},
   "outputs": [],
   "source": [
    "subreddits['display_name'] = subreddits['Link'].str.split('/', expand=True)[2]"
   ]
  },
  {
   "cell_type": "code",
   "execution_count": null,
   "metadata": {},
   "outputs": [],
   "source": [
    "subreddits['https_Link'] = (\"https://reddit.com\"+subreddits['Link'])"
   ]
  },
  {
   "cell_type": "code",
   "execution_count": null,
   "metadata": {},
   "outputs": [],
   "source": [
    "subreddits.rename(columns={'Subscribers':'reported_Subscribers', 'Name':'label'}, inplace=True)"
   ]
  },
  {
   "cell_type": "raw",
   "metadata": {},
   "source": [
    "subreddits['id'] = reddit.subreddit(subreddits['display_name']).name"
   ]
  },
  {
   "cell_type": "raw",
   "metadata": {},
   "source": [
    "reddit.subreddit('leagueoflegends').title"
   ]
  },
  {
   "cell_type": "raw",
   "metadata": {},
   "source": [
    "[reddit.subreddit(display_name).name for display_name in subreddits['display_name']]"
   ]
  },
  {
   "cell_type": "code",
   "execution_count": null,
   "metadata": {},
   "outputs": [],
   "source": [
    "subreddits.sample(5)"
   ]
  },
  {
   "cell_type": "markdown",
   "metadata": {},
   "source": [
    "Inefficient building of fetched subreddit-level metadata.."
   ]
  },
  {
   "cell_type": "code",
   "execution_count": null,
   "metadata": {},
   "outputs": [],
   "source": [
    "subreddit = reddit.subreddit('leagueoflegends')"
   ]
  },
  {
   "cell_type": "code",
   "execution_count": null,
   "metadata": {},
   "outputs": [],
   "source": []
  },
  {
   "cell_type": "code",
   "execution_count": null,
   "metadata": {},
   "outputs": [],
   "source": [
    "series = dict()\n",
    "subreddit = reddit.subreddit('CivMulti')\n",
    "for a in attrs:\n",
    "    try: series[a] = getattr(subreddit, a)\n",
    "    except: series[a] = np.nan\n",
    "series"
   ]
  },
  {
   "cell_type": "code",
   "execution_count": null,
   "metadata": {},
   "outputs": [],
   "source": [
    "(subreddit.display_name, subreddit.fullname, subreddit.name)"
   ]
  },
  {
   "cell_type": "code",
   "execution_count": null,
   "metadata": {},
   "outputs": [],
   "source": [
    "df = pd.DataFrame()\n",
    "attrs = ('display_name','fullname','id','subscribers','title')\n",
    "\n",
    "for display_name in tqdm(subreddits['display_name']):\n",
    "    subreddit = reddit.subreddit(display_name)\n",
    "    series = dict()\n",
    "    \n",
    "    for a in attrs:\n",
    "        try: series[a] = getattr(subreddit, a)\n",
    "        except: series[a] = np.nan\n",
    "            \n",
    "    df = df.append(series, ignore_index=True)"
   ]
  },
  {
   "cell_type": "code",
   "execution_count": null,
   "metadata": {},
   "outputs": [],
   "source": [
    "subreddits = subreddits.merge(df, on='display_name')"
   ]
  },
  {
   "cell_type": "code",
   "execution_count": null,
   "metadata": {},
   "outputs": [],
   "source": [
    "subreddits.sample(5)"
   ]
  },
  {
   "cell_type": "markdown",
   "metadata": {},
   "source": [
    "testing efficiency..."
   ]
  },
  {
   "cell_type": "raw",
   "metadata": {},
   "source": [
    "%timeit()\n",
    "try: subreddit._fetch()\n",
    "except: pass"
   ]
  },
  {
   "cell_type": "raw",
   "metadata": {},
   "source": [
    "%timeit()\n",
    "try: subreddit.name\n",
    "except: pass"
   ]
  },
  {
   "cell_type": "raw",
   "metadata": {},
   "source": [
    "%timeit()\n",
    "try:\n",
    "    df = df.append({\n",
    "        'display_name':subreddit.display_name,\n",
    "        'subscribers':subreddit.subscribers,\n",
    "        'name':subreddit.name,\n",
    "        'id':subreddit.id,\n",
    "        'title':subreddit.title\n",
    "    }, ignore_index=True)\n",
    "except: pass"
   ]
  },
  {
   "cell_type": "markdown",
   "metadata": {},
   "source": [
    "### Output subreddits table"
   ]
  },
  {
   "cell_type": "code",
   "execution_count": null,
   "metadata": {},
   "outputs": [],
   "source": [
    "subreddits.to_csv(\"subreddits.csv\", index=False)"
   ]
  }
 ],
 "metadata": {
  "kernelspec": {
   "display_name": "Python 3",
   "language": "python",
   "name": "python3"
  },
  "language_info": {
   "codemirror_mode": {
    "name": "ipython",
    "version": 3
   },
   "file_extension": ".py",
   "mimetype": "text/x-python",
   "name": "python",
   "nbconvert_exporter": "python",
   "pygments_lexer": "ipython3",
   "version": "3.6.4"
  }
 },
 "nbformat": 4,
 "nbformat_minor": 2
}
