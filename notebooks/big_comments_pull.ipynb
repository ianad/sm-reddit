{
 "cells": [
  {
   "cell_type": "code",
   "execution_count": null,
   "metadata": {},
   "outputs": [],
   "source": [
    "import praw\n",
    "from _secrets import user_agent, client_id, client_secret\n",
    "import pandas as pd\n",
    "from tqdm import tqdm"
   ]
  },
  {
   "cell_type": "code",
   "execution_count": null,
   "metadata": {},
   "outputs": [],
   "source": [
    "reddit = praw.Reddit(user_agent='Update Comments Corpus, /u/Holden-McRoyne',\n",
    "                     client_id=client_id,\n",
    "                     client_secret=client_secret)"
   ]
  },
  {
   "cell_type": "code",
   "execution_count": null,
   "metadata": {},
   "outputs": [],
   "source": [
    "submissions = pd.read_csv('../data/submissions.csv')['id']\n",
    "comments = pd.read_csv('../data/comments.csv')"
   ]
  },
  {
   "cell_type": "code",
   "execution_count": null,
   "metadata": {},
   "outputs": [],
   "source": [
    "submissions = [reddit.submission(id=Id) for Id in pd.read_csv('../data/submissions.csv')['id']]"
   ]
  },
  {
   "cell_type": "markdown",
   "metadata": {},
   "source": [
    "`submission = reddit.submission(submissions[0])`\n",
    "\n",
    "`comments_tree = submission.comments`\n",
    "\n",
    "`comments_tree.replace_more(limit=0)`\n",
    "\n",
    "`df = pd.DataFrame([c.__dict__ for c in comments_tree])`"
   ]
  },
  {
   "cell_type": "code",
   "execution_count": null,
   "metadata": {},
   "outputs": [],
   "source": [
    "df=pd.DataFrame()\n",
    "for submission in tqdm(submissions):\n",
    "    comments_tree = submission.comments\n",
    "    comments_tree.replace_more(limit=0)\n",
    "    df.append(pd.DataFrame([c.__dict__ for c in comments_tree]))\n"
   ]
  },
  {
   "cell_type": "code",
   "execution_count": null,
   "metadata": {},
   "outputs": [],
   "source": [
    "df.to_csv('comments.csv', index=False)"
   ]
  }
 ],
 "metadata": {
  "kernelspec": {
   "display_name": "Python 3",
   "language": "python",
   "name": "python3"
  },
  "language_info": {
   "codemirror_mode": {
    "name": "ipython",
    "version": 3
   },
   "file_extension": ".py",
   "mimetype": "text/x-python",
   "name": "python",
   "nbconvert_exporter": "python",
   "pygments_lexer": "ipython3",
   "version": "3.7.0"
  }
 },
 "nbformat": 4,
 "nbformat_minor": 2
}
