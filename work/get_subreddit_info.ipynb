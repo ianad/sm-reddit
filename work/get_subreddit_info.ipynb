{
 "cells": [
  {
   "cell_type": "code",
   "execution_count": 2,
   "metadata": {},
   "outputs": [],
   "source": [
    "import praw\n",
    "import pandas as pd\n",
    "from bs4 import BeautifulSoup\n",
    "import requests\n",
    "from _secrets import user_agent, client_id, client_secret\n",
    "from tqdm import tqdm_notebook as tqdm"
   ]
  },
  {
   "cell_type": "code",
   "execution_count": 3,
   "metadata": {},
   "outputs": [],
   "source": [
    "reddit = praw.Reddit(user_agent=user_agent,\n",
    "                     client_id=client_id,\n",
    "                     client_secret=client_secret)"
   ]
  },
  {
   "cell_type": "code",
   "execution_count": null,
   "metadata": {},
   "outputs": [],
   "source": []
  },
  {
   "cell_type": "code",
   "execution_count": 10,
   "metadata": {},
   "outputs": [
    {
     "data": {
      "text/plain": [
       "<Response [429]>"
      ]
     },
     "execution_count": 10,
     "metadata": {},
     "output_type": "execute_result"
    }
   ],
   "source": [
    "url = 'https://www.reddit.com/r/gaming/wiki/list-sorted-by-subscribers'\n",
    "page = requests.get(url)\n",
    "page"
   ]
  },
  {
   "cell_type": "code",
   "execution_count": 11,
   "metadata": {},
   "outputs": [
    {
     "data": {
      "text/plain": [
       "<!DOCTYPE html>\n",
       "<html>\n",
       "<head>\n",
       "<title>Too Many Requests</title>\n",
       "<style>\n",
       "      body {\n",
       "          font: small verdana, arial, helvetica, sans-serif;\n",
       "          width: 600px;\n",
       "          margin: 0 auto;\n",
       "      }\n",
       "\n",
       "      h1 {\n",
       "          height: 40px;\n",
       "          background: transparent url(//www.redditstatic.com/reddit.com.header.png) no-repeat scroll top right;\n",
       "      }\n",
       "    </style>\n",
       "</head>\n",
       "<body>\n",
       "<h1>whoa there, pardner!</h1>\n",
       "<p>we're sorry, but you appear to be a bot and we've seen too many requests\n",
       "from you lately. we enforce a hard speed limit on requests that appear to come\n",
       "from bots to prevent abuse.</p>\n",
       "<p>if you are not a bot but are spoofing one via your browser's user agent\n",
       "string: please change your user agent string to avoid seeing this message\n",
       "again.</p>\n",
       "<p>please wait 6 second(s) and try again.</p>\n",
       "<p>as a reminder to developers, we recommend that clients make no\n",
       "    more than <a href=\"http://github.com/reddit/reddit/wiki/API\">one\n",
       "    request every two seconds</a> to avoid seeing this message.</p>\n",
       "</body>\n",
       "</html>"
      ]
     },
     "execution_count": 11,
     "metadata": {},
     "output_type": "execute_result"
    }
   ],
   "source": [
    "soup = BeautifulSoup(page.text)\n",
    "soup"
   ]
  },
  {
   "cell_type": "code",
   "execution_count": 34,
   "metadata": {},
   "outputs": [],
   "source": [
    "table = soup.find('table')\n",
    "table"
   ]
  },
  {
   "cell_type": "code",
   "execution_count": 28,
   "metadata": {},
   "outputs": [
    {
     "ename": "ValueError",
     "evalue": "No tables found",
     "output_type": "error",
     "traceback": [
      "\u001b[1;31m---------------------------------------------------------------------------\u001b[0m",
      "\u001b[1;31mValueError\u001b[0m                                Traceback (most recent call last)",
      "\u001b[1;32m<ipython-input-28-850504f3701b>\u001b[0m in \u001b[0;36m<module>\u001b[1;34m()\u001b[0m\n\u001b[1;32m----> 1\u001b[1;33m \u001b[0msubreddits\u001b[0m \u001b[1;33m=\u001b[0m \u001b[0mpd\u001b[0m\u001b[1;33m.\u001b[0m\u001b[0mread_html\u001b[0m\u001b[1;33m(\u001b[0m\u001b[0mstr\u001b[0m\u001b[1;33m(\u001b[0m\u001b[0mtable\u001b[0m\u001b[1;33m)\u001b[0m\u001b[1;33m)\u001b[0m\u001b[1;33m[\u001b[0m\u001b[1;36m0\u001b[0m\u001b[1;33m]\u001b[0m\u001b[1;33m\u001b[0m\u001b[0m\n\u001b[0m",
      "\u001b[1;32mc:\\users\\idalt\\anaconda3\\lib\\site-packages\\pandas\\io\\html.py\u001b[0m in \u001b[0;36mread_html\u001b[1;34m(io, match, flavor, header, index_col, skiprows, attrs, parse_dates, tupleize_cols, thousands, encoding, decimal, converters, na_values, keep_default_na)\u001b[0m\n\u001b[0;32m    913\u001b[0m                   \u001b[0mthousands\u001b[0m\u001b[1;33m=\u001b[0m\u001b[0mthousands\u001b[0m\u001b[1;33m,\u001b[0m \u001b[0mattrs\u001b[0m\u001b[1;33m=\u001b[0m\u001b[0mattrs\u001b[0m\u001b[1;33m,\u001b[0m \u001b[0mencoding\u001b[0m\u001b[1;33m=\u001b[0m\u001b[0mencoding\u001b[0m\u001b[1;33m,\u001b[0m\u001b[1;33m\u001b[0m\u001b[0m\n\u001b[0;32m    914\u001b[0m                   \u001b[0mdecimal\u001b[0m\u001b[1;33m=\u001b[0m\u001b[0mdecimal\u001b[0m\u001b[1;33m,\u001b[0m \u001b[0mconverters\u001b[0m\u001b[1;33m=\u001b[0m\u001b[0mconverters\u001b[0m\u001b[1;33m,\u001b[0m \u001b[0mna_values\u001b[0m\u001b[1;33m=\u001b[0m\u001b[0mna_values\u001b[0m\u001b[1;33m,\u001b[0m\u001b[1;33m\u001b[0m\u001b[0m\n\u001b[1;32m--> 915\u001b[1;33m                   keep_default_na=keep_default_na)\n\u001b[0m",
      "\u001b[1;32mc:\\users\\idalt\\anaconda3\\lib\\site-packages\\pandas\\io\\html.py\u001b[0m in \u001b[0;36m_parse\u001b[1;34m(flavor, io, match, attrs, encoding, **kwargs)\u001b[0m\n\u001b[0;32m    747\u001b[0m             \u001b[1;32mbreak\u001b[0m\u001b[1;33m\u001b[0m\u001b[0m\n\u001b[0;32m    748\u001b[0m     \u001b[1;32melse\u001b[0m\u001b[1;33m:\u001b[0m\u001b[1;33m\u001b[0m\u001b[0m\n\u001b[1;32m--> 749\u001b[1;33m         \u001b[0mraise_with_traceback\u001b[0m\u001b[1;33m(\u001b[0m\u001b[0mretained\u001b[0m\u001b[1;33m)\u001b[0m\u001b[1;33m\u001b[0m\u001b[0m\n\u001b[0m\u001b[0;32m    750\u001b[0m \u001b[1;33m\u001b[0m\u001b[0m\n\u001b[0;32m    751\u001b[0m     \u001b[0mret\u001b[0m \u001b[1;33m=\u001b[0m \u001b[1;33m[\u001b[0m\u001b[1;33m]\u001b[0m\u001b[1;33m\u001b[0m\u001b[0m\n",
      "\u001b[1;32mc:\\users\\idalt\\anaconda3\\lib\\site-packages\\pandas\\compat\\__init__.py\u001b[0m in \u001b[0;36mraise_with_traceback\u001b[1;34m(exc, traceback)\u001b[0m\n\u001b[0;32m    383\u001b[0m         \u001b[1;32mif\u001b[0m \u001b[0mtraceback\u001b[0m \u001b[1;33m==\u001b[0m \u001b[0mEllipsis\u001b[0m\u001b[1;33m:\u001b[0m\u001b[1;33m\u001b[0m\u001b[0m\n\u001b[0;32m    384\u001b[0m             \u001b[0m_\u001b[0m\u001b[1;33m,\u001b[0m \u001b[0m_\u001b[0m\u001b[1;33m,\u001b[0m \u001b[0mtraceback\u001b[0m \u001b[1;33m=\u001b[0m \u001b[0msys\u001b[0m\u001b[1;33m.\u001b[0m\u001b[0mexc_info\u001b[0m\u001b[1;33m(\u001b[0m\u001b[1;33m)\u001b[0m\u001b[1;33m\u001b[0m\u001b[0m\n\u001b[1;32m--> 385\u001b[1;33m         \u001b[1;32mraise\u001b[0m \u001b[0mexc\u001b[0m\u001b[1;33m.\u001b[0m\u001b[0mwith_traceback\u001b[0m\u001b[1;33m(\u001b[0m\u001b[0mtraceback\u001b[0m\u001b[1;33m)\u001b[0m\u001b[1;33m\u001b[0m\u001b[0m\n\u001b[0m\u001b[0;32m    386\u001b[0m \u001b[1;32melse\u001b[0m\u001b[1;33m:\u001b[0m\u001b[1;33m\u001b[0m\u001b[0m\n\u001b[0;32m    387\u001b[0m     \u001b[1;31m# this version of raise is a syntax error in Python 3\u001b[0m\u001b[1;33m\u001b[0m\u001b[1;33m\u001b[0m\u001b[0m\n",
      "\u001b[1;31mValueError\u001b[0m: No tables found"
     ]
    }
   ],
   "source": [
    "subreddits = pd.read_html(str(table))[0]"
   ]
  },
  {
   "cell_type": "code",
   "execution_count": null,
   "metadata": {},
   "outputs": [],
   "source": [
    "subreddits.head()"
   ]
  },
  {
   "cell_type": "code",
   "execution_count": 8,
   "metadata": {},
   "outputs": [
    {
     "ename": "NameError",
     "evalue": "name 'subreddits' is not defined",
     "output_type": "error",
     "traceback": [
      "\u001b[1;31m---------------------------------------------------------------------------\u001b[0m",
      "\u001b[1;31mNameError\u001b[0m                                 Traceback (most recent call last)",
      "\u001b[1;32m<ipython-input-8-3db3ffd7a3eb>\u001b[0m in \u001b[0;36m<module>\u001b[1;34m()\u001b[0m\n\u001b[1;32m----> 1\u001b[1;33m \u001b[0msubreddits\u001b[0m\u001b[1;33m.\u001b[0m\u001b[0mrename\u001b[0m\u001b[1;33m(\u001b[0m\u001b[0mcolumns\u001b[0m\u001b[1;33m=\u001b[0m\u001b[1;33m{\u001b[0m\u001b[1;34m'Name'\u001b[0m\u001b[1;33m:\u001b[0m\u001b[1;34m'title'\u001b[0m\u001b[1;33m,\u001b[0m \u001b[1;33m}\u001b[0m\u001b[1;33m)\u001b[0m\u001b[1;33m\u001b[0m\u001b[0m\n\u001b[0m",
      "\u001b[1;31mNameError\u001b[0m: name 'subreddits' is not defined"
     ]
    }
   ],
   "source": [
    "subreddits.rename(columns={'Name':'title', })"
   ]
  },
  {
   "cell_type": "code",
   "execution_count": 205,
   "metadata": {},
   "outputs": [],
   "source": []
  },
  {
   "cell_type": "code",
   "execution_count": null,
   "metadata": {},
   "outputs": [],
   "source": [
    "for sub in tqdm(subreddits['display_name']):\n",
    "    subreddit = reddit.subreddit(sub)\n",
    "    print(subreddit.display_name)"
   ]
  },
  {
   "cell_type": "raw",
   "metadata": {},
   "source": [
    "[reddit.subreddit(display_name).name == reddit.subreddit(display_name).fullname for display_name in subreddits['display_name']]"
   ]
  },
  {
   "cell_type": "code",
   "execution_count": 187,
   "metadata": {},
   "outputs": [
    {
     "data": {
      "text/plain": [
       "['MESSAGE_PREFIX',\n",
       " 'STR_FIELD',\n",
       " 'VALID_TIME_FILTERS',\n",
       " '__class__',\n",
       " '__delattr__',\n",
       " '__dict__',\n",
       " '__dir__',\n",
       " '__doc__',\n",
       " '__eq__',\n",
       " '__format__',\n",
       " '__ge__',\n",
       " '__getattr__',\n",
       " '__getattribute__',\n",
       " '__gt__',\n",
       " '__hash__',\n",
       " '__init__',\n",
       " '__init_subclass__',\n",
       " '__le__',\n",
       " '__lt__',\n",
       " '__module__',\n",
       " '__ne__',\n",
       " '__new__',\n",
       " '__reduce__',\n",
       " '__reduce_ex__',\n",
       " '__repr__',\n",
       " '__setattr__',\n",
       " '__sizeof__',\n",
       " '__str__',\n",
       " '__subclasshook__',\n",
       " '__weakref__',\n",
       " '_create_or_update',\n",
       " '_fetch',\n",
       " '_fetch_data',\n",
       " '_fetch_info',\n",
       " '_fetched',\n",
       " '_kind',\n",
       " '_path',\n",
       " '_reddit',\n",
       " '_reset_attributes',\n",
       " '_safely_add_arguments',\n",
       " '_submission_class',\n",
       " '_submit_media',\n",
       " '_subreddit_collections_class',\n",
       " '_subreddit_list',\n",
       " '_upload_media',\n",
       " '_url_parts',\n",
       " '_validate_time_filter',\n",
       " 'accounts_active',\n",
       " 'accounts_active_is_fuzzed',\n",
       " 'active_user_count',\n",
       " 'advertiser_category',\n",
       " 'all_original_content',\n",
       " 'allow_discovery',\n",
       " 'allow_images',\n",
       " 'allow_videogifs',\n",
       " 'allow_videos',\n",
       " 'banned',\n",
       " 'banner_background_color',\n",
       " 'banner_background_image',\n",
       " 'banner_img',\n",
       " 'banner_size',\n",
       " 'can_assign_link_flair',\n",
       " 'can_assign_user_flair',\n",
       " 'collapse_deleted_comments',\n",
       " 'collections',\n",
       " 'comment_score_hide_mins',\n",
       " 'comments',\n",
       " 'community_icon',\n",
       " 'contributor',\n",
       " 'controversial',\n",
       " 'created',\n",
       " 'created_utc',\n",
       " 'description',\n",
       " 'description_html',\n",
       " 'disable_contributor_requests',\n",
       " 'display_name',\n",
       " 'display_name_prefixed',\n",
       " 'emoji',\n",
       " 'emojis_custom_size',\n",
       " 'emojis_enabled',\n",
       " 'filters',\n",
       " 'flair',\n",
       " 'free_form_reports',\n",
       " 'fullname',\n",
       " 'gilded',\n",
       " 'has_menu_widget',\n",
       " 'header_img',\n",
       " 'header_size',\n",
       " 'header_title',\n",
       " 'hide_ads',\n",
       " 'hot',\n",
       " 'icon_img',\n",
       " 'icon_size',\n",
       " 'id',\n",
       " 'is_enrolled_in_new_modmail',\n",
       " 'key_color',\n",
       " 'lang',\n",
       " 'link_flair_enabled',\n",
       " 'link_flair_position',\n",
       " 'message',\n",
       " 'mobile_banner_image',\n",
       " 'mod',\n",
       " 'moderator',\n",
       " 'modmail',\n",
       " 'muted',\n",
       " 'name',\n",
       " 'new',\n",
       " 'notification_level',\n",
       " 'original_content_tag_enabled',\n",
       " 'over18',\n",
       " 'parse',\n",
       " 'primary_color',\n",
       " 'public_description',\n",
       " 'public_description_html',\n",
       " 'public_traffic',\n",
       " 'quaran',\n",
       " 'quarantine',\n",
       " 'random',\n",
       " 'random_rising',\n",
       " 'restrict_commenting',\n",
       " 'restrict_posting',\n",
       " 'rising',\n",
       " 'rules',\n",
       " 'search',\n",
       " 'show_media',\n",
       " 'show_media_preview',\n",
       " 'spoilers_enabled',\n",
       " 'sticky',\n",
       " 'stream',\n",
       " 'stylesheet',\n",
       " 'submission_type',\n",
       " 'submit',\n",
       " 'submit_image',\n",
       " 'submit_link_label',\n",
       " 'submit_text',\n",
       " 'submit_text_html',\n",
       " 'submit_text_label',\n",
       " 'submit_video',\n",
       " 'subreddit_type',\n",
       " 'subscribe',\n",
       " 'subscribers',\n",
       " 'suggested_comment_sort',\n",
       " 'title',\n",
       " 'top',\n",
       " 'traffic',\n",
       " 'unsubscribe',\n",
       " 'url',\n",
       " 'user_can_flair_in_sr',\n",
       " 'user_flair_background_color',\n",
       " 'user_flair_css_class',\n",
       " 'user_flair_enabled_in_sr',\n",
       " 'user_flair_position',\n",
       " 'user_flair_richtext',\n",
       " 'user_flair_template_id',\n",
       " 'user_flair_text',\n",
       " 'user_flair_text_color',\n",
       " 'user_flair_type',\n",
       " 'user_has_favorited',\n",
       " 'user_is_banned',\n",
       " 'user_is_contributor',\n",
       " 'user_is_moderator',\n",
       " 'user_is_muted',\n",
       " 'user_is_subscriber',\n",
       " 'user_sr_flair_enabled',\n",
       " 'user_sr_theme_enabled',\n",
       " 'whitelist_status',\n",
       " 'widgets',\n",
       " 'wiki',\n",
       " 'wiki_enabled',\n",
       " 'wls']"
      ]
     },
     "execution_count": 187,
     "metadata": {},
     "output_type": "execute_result"
    }
   ],
   "source": [
    "dir(subreddit)"
   ]
  },
  {
   "cell_type": "code",
   "execution_count": null,
   "metadata": {},
   "outputs": [],
   "source": [
    "subreddits.rename(columns)"
   ]
  },
  {
   "cell_type": "code",
   "execution_count": 192,
   "metadata": {},
   "outputs": [],
   "source": [
    "subreddits['display_name'] = subreddits['Link'].str.split('/', expand=True)[2]"
   ]
  },
  {
   "cell_type": "code",
   "execution_count": 193,
   "metadata": {},
   "outputs": [],
   "source": [
    "subreddits['https_Link'] = \"https://reddit.com\"+subreddits['Link']"
   ]
  },
  {
   "cell_type": "raw",
   "metadata": {},
   "source": [
    "subreddits['id'] = reddit.subreddit(subreddits['name'].name)"
   ]
  },
  {
   "cell_type": "raw",
   "metadata": {},
   "source": [
    "[reddit.subreddit(display_name).name for display_name in subreddits['display_name']]"
   ]
  },
  {
   "cell_type": "code",
   "execution_count": 194,
   "metadata": {},
   "outputs": [
    {
     "data": {
      "text/html": [
       "<div>\n",
       "<style scoped>\n",
       "    .dataframe tbody tr th:only-of-type {\n",
       "        vertical-align: middle;\n",
       "    }\n",
       "\n",
       "    .dataframe tbody tr th {\n",
       "        vertical-align: top;\n",
       "    }\n",
       "\n",
       "    .dataframe thead th {\n",
       "        text-align: right;\n",
       "    }\n",
       "</style>\n",
       "<table border=\"1\" class=\"dataframe\">\n",
       "  <thead>\n",
       "    <tr style=\"text-align: right;\">\n",
       "      <th></th>\n",
       "      <th>Name</th>\n",
       "      <th>Link</th>\n",
       "      <th>Subscribers</th>\n",
       "      <th>display_name</th>\n",
       "      <th>https_Link</th>\n",
       "    </tr>\n",
       "  </thead>\n",
       "  <tbody>\n",
       "    <tr>\n",
       "      <th>0</th>\n",
       "      <td>League of Legends</td>\n",
       "      <td>/r/leagueoflegends</td>\n",
       "      <td>699793</td>\n",
       "      <td>leagueoflegends</td>\n",
       "      <td>https://reddit.com/r/leagueoflegends</td>\n",
       "    </tr>\n",
       "    <tr>\n",
       "      <th>1</th>\n",
       "      <td>Pokémon</td>\n",
       "      <td>/r/pokemon</td>\n",
       "      <td>444468</td>\n",
       "      <td>pokemon</td>\n",
       "      <td>https://reddit.com/r/pokemon</td>\n",
       "    </tr>\n",
       "    <tr>\n",
       "      <th>2</th>\n",
       "      <td>Minecraft</td>\n",
       "      <td>/r/Minecraft</td>\n",
       "      <td>440180</td>\n",
       "      <td>Minecraft</td>\n",
       "      <td>https://reddit.com/r/Minecraft</td>\n",
       "    </tr>\n",
       "    <tr>\n",
       "      <th>3</th>\n",
       "      <td>The Elder Scrolls V: Skyrim</td>\n",
       "      <td>/r/skyrim</td>\n",
       "      <td>298865</td>\n",
       "      <td>skyrim</td>\n",
       "      <td>https://reddit.com/r/skyrim</td>\n",
       "    </tr>\n",
       "    <tr>\n",
       "      <th>4</th>\n",
       "      <td>Hearthstone: Heroes of Warcraft</td>\n",
       "      <td>/r/hearthstone</td>\n",
       "      <td>253622</td>\n",
       "      <td>hearthstone</td>\n",
       "      <td>https://reddit.com/r/hearthstone</td>\n",
       "    </tr>\n",
       "  </tbody>\n",
       "</table>\n",
       "</div>"
      ],
      "text/plain": [
       "                              Name                Link Subscribers  \\\n",
       "0                League of Legends  /r/leagueoflegends      699793   \n",
       "1                          Pokémon          /r/pokemon      444468   \n",
       "2                        Minecraft        /r/Minecraft      440180   \n",
       "3      The Elder Scrolls V: Skyrim           /r/skyrim      298865   \n",
       "4  Hearthstone: Heroes of Warcraft      /r/hearthstone      253622   \n",
       "\n",
       "      display_name                            https_Link  \n",
       "0  leagueoflegends  https://reddit.com/r/leagueoflegends  \n",
       "1          pokemon          https://reddit.com/r/pokemon  \n",
       "2        Minecraft        https://reddit.com/r/Minecraft  \n",
       "3           skyrim           https://reddit.com/r/skyrim  \n",
       "4      hearthstone      https://reddit.com/r/hearthstone  "
      ]
     },
     "execution_count": 194,
     "metadata": {},
     "output_type": "execute_result"
    }
   ],
   "source": [
    "subreddits.head()"
   ]
  },
  {
   "cell_type": "code",
   "execution_count": 153,
   "metadata": {},
   "outputs": [],
   "source": [
    "subreddit = reddit.subreddit('leagueoflegends')"
   ]
  },
  {
   "cell_type": "code",
   "execution_count": 158,
   "metadata": {},
   "outputs": [
    {
     "data": {
      "text/plain": [
       "'leagueoflegends'"
      ]
     },
     "execution_count": 158,
     "metadata": {},
     "output_type": "execute_result"
    }
   ],
   "source": [
    "subreddit.display_name"
   ]
  },
  {
   "cell_type": "code",
   "execution_count": null,
   "metadata": {},
   "outputs": [],
   "source": [
    "submissions=pd.DataFrame({\n",
    "    \"subreddit_id\"\n",
    "})"
   ]
  },
  {
   "cell_type": "code",
   "execution_count": 151,
   "metadata": {},
   "outputs": [
    {
     "name": "stdout",
     "output_type": "stream",
     "text": [
      "t3_62phzt\n",
      "t3_7o5bj9\n",
      "t3_88rypt\n",
      "t3_88vzaw\n",
      "t3_8lxchp\n",
      "t3_62t38y\n",
      "t3_3i506g\n",
      "t3_88u8fo\n",
      "t3_88orjl\n",
      "t3_62t8sa\n",
      "t3_73ko9b\n",
      "t3_88nnyg\n",
      "t3_6eu74n\n",
      "t3_62ulp5\n",
      "t3_9ptz42\n",
      "t3_7ppcgz\n",
      "t3_62p0al\n",
      "t3_9q1h4m\n",
      "t3_bprdvi\n",
      "t3_88nz66\n",
      "t3_9xhrot\n",
      "t3_ai9ggw\n",
      "t3_2w0nu9\n",
      "t3_7n08zw\n",
      "t3_b7y7k2\n"
     ]
    }
   ],
   "source": [
    "for submission in reddit.subreddit('leagueoflegends').top(limit=25):\n",
    "    print(submission.title)\n",
    "    print(submission)"
   ]
  }
 ],
 "metadata": {
  "kernelspec": {
   "display_name": "Python 3",
   "language": "python",
   "name": "python3"
  },
  "language_info": {
   "codemirror_mode": {
    "name": "ipython",
    "version": 3
   },
   "file_extension": ".py",
   "mimetype": "text/x-python",
   "name": "python",
   "nbconvert_exporter": "python",
   "pygments_lexer": "ipython3",
   "version": "3.6.4"
  }
 },
 "nbformat": 4,
 "nbformat_minor": 2
}
