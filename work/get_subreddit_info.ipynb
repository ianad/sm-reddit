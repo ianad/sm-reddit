{
 "cells": [
  {
   "cell_type": "code",
   "execution_count": 1,
   "metadata": {},
   "outputs": [],
   "source": [
    "import praw\n",
    "import pandas as pd\n",
    "from bs4 import BeautifulSoup\n",
    "import requests\n",
    "from _secrets import user_agent, client_id, client_secret\n",
    "from tqdm import tqdm_notebook as tqdm"
   ]
  },
  {
   "cell_type": "code",
   "execution_count": 2,
   "metadata": {},
   "outputs": [],
   "source": [
    "reddit = praw.Reddit(user_agent=user_agent,\n",
    "                     client_id=client_id,\n",
    "                     client_secret=client_secret)"
   ]
  },
  {
   "cell_type": "code",
   "execution_count": 3,
   "metadata": {},
   "outputs": [],
   "source": [
    "gaming_wiki_content = reddit.subreddit('gaming').wiki['list-sorted-by-subscribers'].content_html\n",
    "soup = BeautifulSoup(gaming_wiki_content)"
   ]
  },
  {
   "cell_type": "code",
   "execution_count": 5,
   "metadata": {},
   "outputs": [],
   "source": [
    "tables = soup.find_all('table')\n",
    "table = tables[0]"
   ]
  },
  {
   "cell_type": "raw",
   "metadata": {},
   "source": [
    "url = 'https://www.reddit.com/r/gaming/wiki/list-sorted-by-subscribers'\n",
    "page = requests.get(url)\n",
    "page"
   ]
  },
  {
   "cell_type": "raw",
   "metadata": {},
   "source": [
    "soup = BeautifulSoup(page.text)\n",
    "soup"
   ]
  },
  {
   "cell_type": "raw",
   "metadata": {},
   "source": [
    "table = soup.find('table')\n",
    "table"
   ]
  },
  {
   "cell_type": "code",
   "execution_count": 6,
   "metadata": {},
   "outputs": [],
   "source": [
    "subreddits = pd.read_html(str(table))[0]"
   ]
  },
  {
   "cell_type": "code",
   "execution_count": 7,
   "metadata": {},
   "outputs": [
    {
     "data": {
      "text/html": [
       "<div>\n",
       "<style scoped>\n",
       "    .dataframe tbody tr th:only-of-type {\n",
       "        vertical-align: middle;\n",
       "    }\n",
       "\n",
       "    .dataframe tbody tr th {\n",
       "        vertical-align: top;\n",
       "    }\n",
       "\n",
       "    .dataframe thead th {\n",
       "        text-align: right;\n",
       "    }\n",
       "</style>\n",
       "<table border=\"1\" class=\"dataframe\">\n",
       "  <thead>\n",
       "    <tr style=\"text-align: right;\">\n",
       "      <th></th>\n",
       "      <th>Name</th>\n",
       "      <th>Link</th>\n",
       "      <th>Subscribers</th>\n",
       "    </tr>\n",
       "  </thead>\n",
       "  <tbody>\n",
       "    <tr>\n",
       "      <th>0</th>\n",
       "      <td>League of Legends</td>\n",
       "      <td>/r/leagueoflegends</td>\n",
       "      <td>699793</td>\n",
       "    </tr>\n",
       "    <tr>\n",
       "      <th>1</th>\n",
       "      <td>Pokémon</td>\n",
       "      <td>/r/pokemon</td>\n",
       "      <td>444468</td>\n",
       "    </tr>\n",
       "    <tr>\n",
       "      <th>2</th>\n",
       "      <td>Minecraft</td>\n",
       "      <td>/r/Minecraft</td>\n",
       "      <td>440180</td>\n",
       "    </tr>\n",
       "    <tr>\n",
       "      <th>3</th>\n",
       "      <td>The Elder Scrolls V: Skyrim</td>\n",
       "      <td>/r/skyrim</td>\n",
       "      <td>298865</td>\n",
       "    </tr>\n",
       "    <tr>\n",
       "      <th>4</th>\n",
       "      <td>Hearthstone: Heroes of Warcraft</td>\n",
       "      <td>/r/hearthstone</td>\n",
       "      <td>253622</td>\n",
       "    </tr>\n",
       "  </tbody>\n",
       "</table>\n",
       "</div>"
      ],
      "text/plain": [
       "                              Name                Link Subscribers\n",
       "0                League of Legends  /r/leagueoflegends      699793\n",
       "1                          Pokémon          /r/pokemon      444468\n",
       "2                        Minecraft        /r/Minecraft      440180\n",
       "3      The Elder Scrolls V: Skyrim           /r/skyrim      298865\n",
       "4  Hearthstone: Heroes of Warcraft      /r/hearthstone      253622"
      ]
     },
     "execution_count": 7,
     "metadata": {},
     "output_type": "execute_result"
    }
   ],
   "source": [
    "subreddits.head()"
   ]
  },
  {
   "cell_type": "raw",
   "metadata": {},
   "source": [
    "subreddits.rename(columns={'Name':'title', })"
   ]
  },
  {
   "cell_type": "code",
   "execution_count": 11,
   "metadata": {},
   "outputs": [],
   "source": [
    "subreddits['display_name'] = subreddits['Link'].str.split('/', expand=True)[2]"
   ]
  },
  {
   "cell_type": "code",
   "execution_count": 12,
   "metadata": {},
   "outputs": [],
   "source": [
    "subreddits['https_Link'] = \"https://reddit.com\"+subreddits['Link']"
   ]
  },
  {
   "cell_type": "raw",
   "metadata": {},
   "source": [
    "subreddits['id'] = reddit.subreddit(subreddits['name'].name)"
   ]
  },
  {
   "cell_type": "raw",
   "metadata": {},
   "source": [
    "[reddit.subreddit(display_name).name for display_name in subreddits['display_name']]"
   ]
  },
  {
   "cell_type": "code",
   "execution_count": 13,
   "metadata": {},
   "outputs": [
    {
     "data": {
      "text/html": [
       "<div>\n",
       "<style scoped>\n",
       "    .dataframe tbody tr th:only-of-type {\n",
       "        vertical-align: middle;\n",
       "    }\n",
       "\n",
       "    .dataframe tbody tr th {\n",
       "        vertical-align: top;\n",
       "    }\n",
       "\n",
       "    .dataframe thead th {\n",
       "        text-align: right;\n",
       "    }\n",
       "</style>\n",
       "<table border=\"1\" class=\"dataframe\">\n",
       "  <thead>\n",
       "    <tr style=\"text-align: right;\">\n",
       "      <th></th>\n",
       "      <th>Name</th>\n",
       "      <th>Link</th>\n",
       "      <th>Subscribers</th>\n",
       "      <th>display_name</th>\n",
       "      <th>https_Link</th>\n",
       "    </tr>\n",
       "  </thead>\n",
       "  <tbody>\n",
       "    <tr>\n",
       "      <th>0</th>\n",
       "      <td>League of Legends</td>\n",
       "      <td>/r/leagueoflegends</td>\n",
       "      <td>699793</td>\n",
       "      <td>leagueoflegends</td>\n",
       "      <td>https://reddit.com/r/leagueoflegends</td>\n",
       "    </tr>\n",
       "    <tr>\n",
       "      <th>1</th>\n",
       "      <td>Pokémon</td>\n",
       "      <td>/r/pokemon</td>\n",
       "      <td>444468</td>\n",
       "      <td>pokemon</td>\n",
       "      <td>https://reddit.com/r/pokemon</td>\n",
       "    </tr>\n",
       "    <tr>\n",
       "      <th>2</th>\n",
       "      <td>Minecraft</td>\n",
       "      <td>/r/Minecraft</td>\n",
       "      <td>440180</td>\n",
       "      <td>Minecraft</td>\n",
       "      <td>https://reddit.com/r/Minecraft</td>\n",
       "    </tr>\n",
       "    <tr>\n",
       "      <th>3</th>\n",
       "      <td>The Elder Scrolls V: Skyrim</td>\n",
       "      <td>/r/skyrim</td>\n",
       "      <td>298865</td>\n",
       "      <td>skyrim</td>\n",
       "      <td>https://reddit.com/r/skyrim</td>\n",
       "    </tr>\n",
       "    <tr>\n",
       "      <th>4</th>\n",
       "      <td>Hearthstone: Heroes of Warcraft</td>\n",
       "      <td>/r/hearthstone</td>\n",
       "      <td>253622</td>\n",
       "      <td>hearthstone</td>\n",
       "      <td>https://reddit.com/r/hearthstone</td>\n",
       "    </tr>\n",
       "  </tbody>\n",
       "</table>\n",
       "</div>"
      ],
      "text/plain": [
       "                              Name                Link Subscribers  \\\n",
       "0                League of Legends  /r/leagueoflegends      699793   \n",
       "1                          Pokémon          /r/pokemon      444468   \n",
       "2                        Minecraft        /r/Minecraft      440180   \n",
       "3      The Elder Scrolls V: Skyrim           /r/skyrim      298865   \n",
       "4  Hearthstone: Heroes of Warcraft      /r/hearthstone      253622   \n",
       "\n",
       "      display_name                            https_Link  \n",
       "0  leagueoflegends  https://reddit.com/r/leagueoflegends  \n",
       "1          pokemon          https://reddit.com/r/pokemon  \n",
       "2        Minecraft        https://reddit.com/r/Minecraft  \n",
       "3           skyrim           https://reddit.com/r/skyrim  \n",
       "4      hearthstone      https://reddit.com/r/hearthstone  "
      ]
     },
     "execution_count": 13,
     "metadata": {},
     "output_type": "execute_result"
    }
   ],
   "source": [
    "subreddits.head()"
   ]
  },
  {
   "cell_type": "code",
   "execution_count": 14,
   "metadata": {},
   "outputs": [],
   "source": [
    "subreddit = reddit.subreddit('leagueoflegends')"
   ]
  },
  {
   "cell_type": "code",
   "execution_count": 15,
   "metadata": {},
   "outputs": [
    {
     "data": {
      "text/plain": [
       "'leagueoflegends'"
      ]
     },
     "execution_count": 15,
     "metadata": {},
     "output_type": "execute_result"
    }
   ],
   "source": [
    "subreddit.display_name"
   ]
  },
  {
   "cell_type": "code",
   "execution_count": 16,
   "metadata": {},
   "outputs": [],
   "source": [
    "submissions=pd.DataFrame({\n",
    "    \"subreddit_id\"\n",
    "})"
   ]
  },
  {
   "cell_type": "code",
   "execution_count": 17,
   "metadata": {},
   "outputs": [
    {
     "name": "stdout",
     "output_type": "stream",
     "text": [
      "OUR LORD AND SAVIOUR MARC MERRILL HAS SAID IF THIS POST GETS TO THE TOP OF /R/ALL, HE WILL GIVE GRAVES A CIGAR AGAIN!\n",
      "62phzt\n",
      "Tyler1 unbanned from League of Legends\n",
      "7o5bj9\n",
      "Jesus Christ. If this gets enough upvotes it will be the first result when people search for \"Jesus Christ\"\n",
      "88rypt\n",
      "DoubleLift's Statement on his Family\n",
      "88vzaw\n",
      "Totalbiscuit has passed away, let us never forget the contribution he has given this game among many others\n",
      "8lxchp\n",
      "Fake Moba. If this gets enough upvotes it will be the first image to show up when searching \"Fake Moba\"\n",
      "62t38y\n",
      "[Spoiler] Counter Logic Gaming vs Team SoloMid / NA LCS 2015 Summer - Final / Post-Match Discussion\n",
      "3i506g\n",
      "If this post gets 32768 upvotes, I'll post it again with 32768 Merrills.\n",
      "88u8fo\n",
      "Every person who upvote will be gifted $10 rp. No bamboozle\n",
      "88orjl\n",
      "BREAKING NEWS: MARC MERRILL PROMISES TO UNBAN TYLER1 IF THIS POST REACHES /R/ALL, #FREETYLER1\n",
      "62t8sa\n",
      "Lead Riot member, \"he [tyler1] looks like a damn humunculous\" and, \"honestly.. its fine he'll die from a coke overdose or testicular cancer from all the steroids.. then we'll be gucci\"\n",
      "73ko9b\n",
      "1 upvote = 1 prayer to bring back old graves, pls help i loved him\n",
      "88nnyg\n",
      "Imaqtpie, Scarra, Dyrus, Voyboy, and Shiphtur are Echo Fox's new Challenger team\n",
      "6eu74n\n",
      "LORD MARC SAYS THAT IF THIS POST REACHES /R/ALL, HE WILL PERSONALLY DELETE YASUO FROM LEAGUE OF LEGENDS\n",
      "62ulp5\n",
      "Royal Never Give Up vs. G2 Esports / 2018 World Championship - Quarter-Final / Post-Match Discussion\n",
      "9ptz42\n",
      "I traveled back in time from 2050 and I am an Emerald IV toplane player. As I already know your questions, I will answer before you write.\n",
      "7ppcgz\n",
      "/R/DOTA2 DOESN'T WANT THIS PIC OF OUR LORD MARC MERRILL ON /R/ALL, WHAT DO YOU THINK /R/THE_MERRILL?\n",
      "62p0al\n",
      "Afreeca Freecs vs. Cloud9 / 2018 World Championship - Quarter-Final / Post-Match Discussion\n",
      "9q1h4m\n",
      "Invictus Gaming vs. Team Liquid / MSI 2019 - Semi-Final / Post-Match Discussion\n",
      "bprdvi\n",
      "Upvote to make Papaya_Dreaming a mod\n",
      "88nz66\n",
      "My cleanest escape yet on vayne !\n",
      "9xhrot\n",
      "Awaken (ft. Valerie Broussard) | League of Legends Cinematic - Season 2019\n",
      "ai9ggw\n",
      "[Spoiler] Counter Logic Gaming vs Team SoloMid / NA LCS 2015 Spring Week 4 / Post-Match Discussion\n",
      "2w0nu9\n",
      "How should I deal with being held hostage in a ranked game for over four hours by colluding duos?\n",
      "7n08zw\n",
      "ok\n",
      "b7y7k2\n"
     ]
    }
   ],
   "source": [
    "for submission in reddit.subreddit('leagueoflegends').top(limit=25):\n",
    "    print(submission.title)\n",
    "    print(submission)"
   ]
  }
 ],
 "metadata": {
  "kernelspec": {
   "display_name": "Python 3",
   "language": "python",
   "name": "python3"
  },
  "language_info": {
   "codemirror_mode": {
    "name": "ipython",
    "version": 3
   },
   "file_extension": ".py",
   "mimetype": "text/x-python",
   "name": "python",
   "nbconvert_exporter": "python",
   "pygments_lexer": "ipython3",
   "version": "3.7.0"
  }
 },
 "nbformat": 4,
 "nbformat_minor": 2
}
