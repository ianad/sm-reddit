{
 "cells": [
  {
   "cell_type": "code",
   "execution_count": 1,
   "metadata": {},
   "outputs": [],
   "source": [
    "import praw\n",
    "import pandas as pd\n",
    "from bs4 import BeautifulSoup\n",
    "import requests\n",
    "from _secrets import user_agent, client_id, client_secret\n",
    "from tqdm import tqdm"
   ]
  },
  {
   "cell_type": "code",
   "execution_count": 2,
   "metadata": {},
   "outputs": [],
   "source": [
    "reddit = praw.Reddit(user_agent=user_agent,\n",
    "                     client_id=client_id,\n",
    "                     client_secret=client_secret)"
   ]
  },
  {
   "cell_type": "code",
   "execution_count": 3,
   "metadata": {},
   "outputs": [],
   "source": [
    "gaming_wiki_content = reddit.subreddit('gaming').wiki['list-sorted-by-subscribers'].content_html\n",
    "soup = BeautifulSoup(gaming_wiki_content)"
   ]
  },
  {
   "cell_type": "code",
   "execution_count": 4,
   "metadata": {},
   "outputs": [],
   "source": [
    "tables = soup.find_all('table')\n",
    "table = tables[0]"
   ]
  },
  {
   "cell_type": "code",
   "execution_count": 5,
   "metadata": {},
   "outputs": [],
   "source": [
    "list_of_tables = [pd.read_html(str(table))[0] for table in tables]"
   ]
  },
  {
   "cell_type": "markdown",
   "metadata": {},
   "source": [
    "Label tables for categorization later"
   ]
  },
  {
   "cell_type": "code",
   "execution_count": 6,
   "metadata": {},
   "outputs": [],
   "source": [
    "for table_num,table in enumerate(list_of_tables):\n",
    "    table['table_number'] = table_num"
   ]
  },
  {
   "cell_type": "code",
   "execution_count": 7,
   "metadata": {},
   "outputs": [],
   "source": [
    "subreddits = pd.concat(list_of_tables)"
   ]
  },
  {
   "cell_type": "code",
   "execution_count": 8,
   "metadata": {},
   "outputs": [
    {
     "data": {
      "text/html": [
       "<div>\n",
       "<style scoped>\n",
       "    .dataframe tbody tr th:only-of-type {\n",
       "        vertical-align: middle;\n",
       "    }\n",
       "\n",
       "    .dataframe tbody tr th {\n",
       "        vertical-align: top;\n",
       "    }\n",
       "\n",
       "    .dataframe thead th {\n",
       "        text-align: right;\n",
       "    }\n",
       "</style>\n",
       "<table border=\"1\" class=\"dataframe\">\n",
       "  <thead>\n",
       "    <tr style=\"text-align: right;\">\n",
       "      <th></th>\n",
       "      <th>Name</th>\n",
       "      <th>Link</th>\n",
       "      <th>Subscribers</th>\n",
       "      <th>table_number</th>\n",
       "    </tr>\n",
       "  </thead>\n",
       "  <tbody>\n",
       "    <tr>\n",
       "      <th>365</th>\n",
       "      <td>Fortnite</td>\n",
       "      <td>/r/FORTnITE</td>\n",
       "      <td>551</td>\n",
       "      <td>0</td>\n",
       "    </tr>\n",
       "    <tr>\n",
       "      <th>239</th>\n",
       "      <td>LittleBigPlanet</td>\n",
       "      <td>/r/littlebigplanet</td>\n",
       "      <td>2419</td>\n",
       "      <td>0</td>\n",
       "    </tr>\n",
       "    <tr>\n",
       "      <th>12</th>\n",
       "      <td>Base-Building Games</td>\n",
       "      <td>/r/BaseBuildingGames</td>\n",
       "      <td>3994</td>\n",
       "      <td>3</td>\n",
       "    </tr>\n",
       "    <tr>\n",
       "      <th>19</th>\n",
       "      <td>Speedrunning</td>\n",
       "      <td>/r/speedrun</td>\n",
       "      <td>34925</td>\n",
       "      <td>2</td>\n",
       "    </tr>\n",
       "    <tr>\n",
       "      <th>457</th>\n",
       "      <td>Rising World</td>\n",
       "      <td>/r/RisingWorld</td>\n",
       "      <td>131</td>\n",
       "      <td>0</td>\n",
       "    </tr>\n",
       "    <tr>\n",
       "      <th>147</th>\n",
       "      <td>Gaming for Leisure</td>\n",
       "      <td>/r/gamingforleisure</td>\n",
       "      <td>223</td>\n",
       "      <td>2</td>\n",
       "    </tr>\n",
       "    <tr>\n",
       "      <th>512</th>\n",
       "      <td>Ascend: Hand of Kul</td>\n",
       "      <td>/r/Ascend</td>\n",
       "      <td>54</td>\n",
       "      <td>0</td>\n",
       "    </tr>\n",
       "    <tr>\n",
       "      <th>299</th>\n",
       "      <td>Marvel: Avengers Alliance</td>\n",
       "      <td>/r/MAA</td>\n",
       "      <td>1171</td>\n",
       "      <td>0</td>\n",
       "    </tr>\n",
       "    <tr>\n",
       "      <th>20</th>\n",
       "      <td>Game Collecting</td>\n",
       "      <td>/r/gamecollecting</td>\n",
       "      <td>30123</td>\n",
       "      <td>2</td>\n",
       "    </tr>\n",
       "  </tbody>\n",
       "</table>\n",
       "</div>"
      ],
      "text/plain": [
       "                          Name                  Link Subscribers  table_number\n",
       "365                   Fortnite           /r/FORTnITE         551             0\n",
       "239            LittleBigPlanet    /r/littlebigplanet        2419             0\n",
       "12         Base-Building Games  /r/BaseBuildingGames        3994             3\n",
       "19                Speedrunning           /r/speedrun       34925             2\n",
       "457               Rising World        /r/RisingWorld         131             0\n",
       "147         Gaming for Leisure   /r/gamingforleisure         223             2\n",
       "512        Ascend: Hand of Kul             /r/Ascend          54             0\n",
       "299  Marvel: Avengers Alliance                /r/MAA        1171             0\n",
       "20             Game Collecting     /r/gamecollecting       30123             2"
      ]
     },
     "execution_count": 8,
     "metadata": {},
     "output_type": "execute_result"
    }
   ],
   "source": [
    "subreddits.sample(9)"
   ]
  },
  {
   "cell_type": "code",
   "execution_count": 9,
   "metadata": {},
   "outputs": [],
   "source": [
    "subreddits['display_name'] = subreddits['Link'].str.split('/', expand=True)[2]"
   ]
  },
  {
   "cell_type": "code",
   "execution_count": 10,
   "metadata": {},
   "outputs": [],
   "source": [
    "subreddits['https_Link'] = (\"https://reddit.com\"+subreddits['Link'])"
   ]
  },
  {
   "cell_type": "code",
   "execution_count": 11,
   "metadata": {},
   "outputs": [],
   "source": [
    "subreddits.rename(columns={'Subscribers':'reported_Subscribers', 'Name':'label'}, inplace=True)"
   ]
  },
  {
   "cell_type": "raw",
   "metadata": {},
   "source": [
    "subreddits['id'] = reddit.subreddit(subreddits['display_name']).name"
   ]
  },
  {
   "cell_type": "raw",
   "metadata": {},
   "source": [
    "reddit.subreddit('leagueoflegends').title"
   ]
  },
  {
   "cell_type": "raw",
   "metadata": {},
   "source": [
    "[reddit.subreddit(display_name).name for display_name in subreddits['display_name']]"
   ]
  },
  {
   "cell_type": "code",
   "execution_count": 12,
   "metadata": {},
   "outputs": [
    {
     "data": {
      "text/html": [
       "<div>\n",
       "<style scoped>\n",
       "    .dataframe tbody tr th:only-of-type {\n",
       "        vertical-align: middle;\n",
       "    }\n",
       "\n",
       "    .dataframe tbody tr th {\n",
       "        vertical-align: top;\n",
       "    }\n",
       "\n",
       "    .dataframe thead th {\n",
       "        text-align: right;\n",
       "    }\n",
       "</style>\n",
       "<table border=\"1\" class=\"dataframe\">\n",
       "  <thead>\n",
       "    <tr style=\"text-align: right;\">\n",
       "      <th></th>\n",
       "      <th>label</th>\n",
       "      <th>Link</th>\n",
       "      <th>reported_Subscribers</th>\n",
       "      <th>table_number</th>\n",
       "      <th>display_name</th>\n",
       "      <th>https_Link</th>\n",
       "    </tr>\n",
       "  </thead>\n",
       "  <tbody>\n",
       "    <tr>\n",
       "      <th>333</th>\n",
       "      <td>Wolfenstein: Enemy Territory</td>\n",
       "      <td>/r/EnemyTerritory</td>\n",
       "      <td>825</td>\n",
       "      <td>0</td>\n",
       "      <td>EnemyTerritory</td>\n",
       "      <td>https://reddit.com/r/EnemyTerritory</td>\n",
       "    </tr>\n",
       "    <tr>\n",
       "      <th>519</th>\n",
       "      <td>Battle Forge</td>\n",
       "      <td>/r/BattleForge</td>\n",
       "      <td>43</td>\n",
       "      <td>0</td>\n",
       "      <td>BattleForge</td>\n",
       "      <td>https://reddit.com/r/BattleForge</td>\n",
       "    </tr>\n",
       "    <tr>\n",
       "      <th>108</th>\n",
       "      <td>Gaming Fashion</td>\n",
       "      <td>/r/gamingfashion</td>\n",
       "      <td>654</td>\n",
       "      <td>2</td>\n",
       "      <td>gamingfashion</td>\n",
       "      <td>https://reddit.com/r/gamingfashion</td>\n",
       "    </tr>\n",
       "    <tr>\n",
       "      <th>382</th>\n",
       "      <td>Beyond: Two Souls</td>\n",
       "      <td>/r/beyondtwosouls</td>\n",
       "      <td>416</td>\n",
       "      <td>0</td>\n",
       "      <td>beyondtwosouls</td>\n",
       "      <td>https://reddit.com/r/beyondtwosouls</td>\n",
       "    </tr>\n",
       "    <tr>\n",
       "      <th>26</th>\n",
       "      <td>Stealth Games</td>\n",
       "      <td>/r/stealthgames</td>\n",
       "      <td>1087</td>\n",
       "      <td>3</td>\n",
       "      <td>stealthgames</td>\n",
       "      <td>https://reddit.com/r/stealthgames</td>\n",
       "    </tr>\n",
       "    <tr>\n",
       "      <th>373</th>\n",
       "      <td>The Longest Journey</td>\n",
       "      <td>/r/thelongestjourney</td>\n",
       "      <td>511</td>\n",
       "      <td>0</td>\n",
       "      <td>thelongestjourney</td>\n",
       "      <td>https://reddit.com/r/thelongestjourney</td>\n",
       "    </tr>\n",
       "    <tr>\n",
       "      <th>332</th>\n",
       "      <td>Train Fever</td>\n",
       "      <td>/r/trainfever</td>\n",
       "      <td>836</td>\n",
       "      <td>0</td>\n",
       "      <td>trainfever</td>\n",
       "      <td>https://reddit.com/r/trainfever</td>\n",
       "    </tr>\n",
       "    <tr>\n",
       "      <th>79</th>\n",
       "      <td>Loading Screen Thoughts</td>\n",
       "      <td>/r/loadingscreenthoughts</td>\n",
       "      <td>2013</td>\n",
       "      <td>2</td>\n",
       "      <td>loadingscreenthoughts</td>\n",
       "      <td>https://reddit.com/r/loadingscreenthoughts</td>\n",
       "    </tr>\n",
       "    <tr>\n",
       "      <th>140</th>\n",
       "      <td>WTFGames</td>\n",
       "      <td>/r/wtfgames</td>\n",
       "      <td>259</td>\n",
       "      <td>2</td>\n",
       "      <td>wtfgames</td>\n",
       "      <td>https://reddit.com/r/wtfgames</td>\n",
       "    </tr>\n",
       "  </tbody>\n",
       "</table>\n",
       "</div>"
      ],
      "text/plain": [
       "                            label                      Link  \\\n",
       "333  Wolfenstein: Enemy Territory         /r/EnemyTerritory   \n",
       "519                  Battle Forge            /r/BattleForge   \n",
       "108                Gaming Fashion          /r/gamingfashion   \n",
       "382             Beyond: Two Souls         /r/beyondtwosouls   \n",
       "26                  Stealth Games           /r/stealthgames   \n",
       "373           The Longest Journey      /r/thelongestjourney   \n",
       "332                   Train Fever             /r/trainfever   \n",
       "79        Loading Screen Thoughts  /r/loadingscreenthoughts   \n",
       "140                      WTFGames               /r/wtfgames   \n",
       "\n",
       "    reported_Subscribers  table_number           display_name  \\\n",
       "333                  825             0         EnemyTerritory   \n",
       "519                   43             0            BattleForge   \n",
       "108                  654             2          gamingfashion   \n",
       "382                  416             0         beyondtwosouls   \n",
       "26                  1087             3           stealthgames   \n",
       "373                  511             0      thelongestjourney   \n",
       "332                  836             0             trainfever   \n",
       "79                  2013             2  loadingscreenthoughts   \n",
       "140                  259             2               wtfgames   \n",
       "\n",
       "                                     https_Link  \n",
       "333         https://reddit.com/r/EnemyTerritory  \n",
       "519            https://reddit.com/r/BattleForge  \n",
       "108          https://reddit.com/r/gamingfashion  \n",
       "382         https://reddit.com/r/beyondtwosouls  \n",
       "26            https://reddit.com/r/stealthgames  \n",
       "373      https://reddit.com/r/thelongestjourney  \n",
       "332             https://reddit.com/r/trainfever  \n",
       "79   https://reddit.com/r/loadingscreenthoughts  \n",
       "140               https://reddit.com/r/wtfgames  "
      ]
     },
     "execution_count": 12,
     "metadata": {},
     "output_type": "execute_result"
    }
   ],
   "source": [
    "subreddits.sample(5)"
   ]
  },
  {
   "cell_type": "markdown",
   "metadata": {},
   "source": [
    "Inefficient building of fetched subreddit-level metadata.."
   ]
  },
  {
   "cell_type": "code",
   "execution_count": 13,
   "metadata": {},
   "outputs": [
    {
     "name": "stdout",
     "output_type": "stream",
     "text": [
      "CivMulti received 403 HTTP response\n",
      "eRepublik received 403 HTTP response\n",
      "planets3 received 403 HTTP response\n",
      "Chorilion_City_Crimes received 403 HTTP response\n",
      "Ascend received 403 HTTP response\n",
      "EverSky received 403 HTTP response\n",
      "MarkLane received 403 HTTP response\n",
      "minecraftxe received 403 HTTP response\n",
      "mncpc received 403 HTTP response\n",
      "TokyoJungle received 403 HTTP response\n",
      "Gamingmemories received 403 HTTP response\n",
      "needateam received 403 HTTP response\n",
      "gamingartwork received 403 HTTP response\n",
      "indiejunction received 403 HTTP response\n",
      "VGracing received 403 HTTP response\n",
      "pdox received 403 HTTP response\n",
      "redditcasual received 403 HTTP response\n",
      "Team_Awesome received 403 HTTP response\n",
      "rdtclan received 403 HTTP response\n",
      "wreckedrdt received 403 HTTP response\n",
      "NAE3 received 403 HTTP response\n",
      "Sega_Saturn received 403 HTTP response\n"
     ]
    }
   ],
   "source": [
    "df = pd.DataFrame()\n",
    "for display_name in subreddits['display_name']:\n",
    "    subreddit = reddit.subreddit(display_name)\n",
    "    try:\n",
    "        subreddit._fetch()\n",
    "    except Exception as e:\n",
    "        print(display_name, e)\n",
    "    else:\n",
    "        df = df.append({\n",
    "            'display_name':subreddit.display_name,\n",
    "            'subscribers':subreddit.subscribers,\n",
    "            'name':subreddit.name,\n",
    "            'id':subreddit.id\n",
    "        }, ignore_index=True)"
   ]
  },
  {
   "cell_type": "code",
   "execution_count": 14,
   "metadata": {},
   "outputs": [],
   "source": [
    "subreddits = subreddits.merge(df, on='display_name')"
   ]
  },
  {
   "cell_type": "code",
   "execution_count": 16,
   "metadata": {},
   "outputs": [
    {
     "data": {
      "text/html": [
       "<div>\n",
       "<style scoped>\n",
       "    .dataframe tbody tr th:only-of-type {\n",
       "        vertical-align: middle;\n",
       "    }\n",
       "\n",
       "    .dataframe tbody tr th {\n",
       "        vertical-align: top;\n",
       "    }\n",
       "\n",
       "    .dataframe thead th {\n",
       "        text-align: right;\n",
       "    }\n",
       "</style>\n",
       "<table border=\"1\" class=\"dataframe\">\n",
       "  <thead>\n",
       "    <tr style=\"text-align: right;\">\n",
       "      <th></th>\n",
       "      <th>label</th>\n",
       "      <th>Link</th>\n",
       "      <th>reported_Subscribers</th>\n",
       "      <th>table_number</th>\n",
       "      <th>display_name</th>\n",
       "      <th>https_Link</th>\n",
       "      <th>id</th>\n",
       "      <th>name</th>\n",
       "      <th>subscribers</th>\n",
       "    </tr>\n",
       "  </thead>\n",
       "  <tbody>\n",
       "    <tr>\n",
       "      <th>806</th>\n",
       "      <td>Platforming</td>\n",
       "      <td>/r/platforming</td>\n",
       "      <td>49</td>\n",
       "      <td>3</td>\n",
       "      <td>platforming</td>\n",
       "      <td>https://reddit.com/r/platforming</td>\n",
       "      <td>2xxvg</td>\n",
       "      <td>t5_2xxvg</td>\n",
       "      <td>114.0</td>\n",
       "    </tr>\n",
       "    <tr>\n",
       "      <th>865</th>\n",
       "      <td>SNES</td>\n",
       "      <td>/r/snes</td>\n",
       "      <td>11434</td>\n",
       "      <td>5</td>\n",
       "      <td>snes</td>\n",
       "      <td>https://reddit.com/r/snes</td>\n",
       "      <td>2rany</td>\n",
       "      <td>t5_2rany</td>\n",
       "      <td>67809.0</td>\n",
       "    </tr>\n",
       "    <tr>\n",
       "      <th>811</th>\n",
       "      <td>Mindcrack</td>\n",
       "      <td>/r/mindcrack</td>\n",
       "      <td>50497</td>\n",
       "      <td>4</td>\n",
       "      <td>mindcrack</td>\n",
       "      <td>https://reddit.com/r/mindcrack</td>\n",
       "      <td>2to85</td>\n",
       "      <td>t5_2to85</td>\n",
       "      <td>43030.0</td>\n",
       "    </tr>\n",
       "    <tr>\n",
       "      <th>462</th>\n",
       "      <td>Unreal Tournament 2004</td>\n",
       "      <td>/r/UT2004</td>\n",
       "      <td>108</td>\n",
       "      <td>0</td>\n",
       "      <td>UT2004</td>\n",
       "      <td>https://reddit.com/r/UT2004</td>\n",
       "      <td>2t04e</td>\n",
       "      <td>t5_2t04e</td>\n",
       "      <td>161.0</td>\n",
       "    </tr>\n",
       "    <tr>\n",
       "      <th>568</th>\n",
       "      <td>Munchkin</td>\n",
       "      <td>/r/Munchkin</td>\n",
       "      <td>3875</td>\n",
       "      <td>1</td>\n",
       "      <td>Munchkin</td>\n",
       "      <td>https://reddit.com/r/Munchkin</td>\n",
       "      <td>2s6ol</td>\n",
       "      <td>t5_2s6ol</td>\n",
       "      <td>6788.0</td>\n",
       "    </tr>\n",
       "  </tbody>\n",
       "</table>\n",
       "</div>"
      ],
      "text/plain": [
       "                      label            Link reported_Subscribers  \\\n",
       "806             Platforming  /r/platforming                   49   \n",
       "865                    SNES         /r/snes                11434   \n",
       "811               Mindcrack    /r/mindcrack                50497   \n",
       "462  Unreal Tournament 2004       /r/UT2004                  108   \n",
       "568                Munchkin     /r/Munchkin                 3875   \n",
       "\n",
       "     table_number display_name                        https_Link     id  \\\n",
       "806             3  platforming  https://reddit.com/r/platforming  2xxvg   \n",
       "865             5         snes         https://reddit.com/r/snes  2rany   \n",
       "811             4    mindcrack    https://reddit.com/r/mindcrack  2to85   \n",
       "462             0       UT2004       https://reddit.com/r/UT2004  2t04e   \n",
       "568             1     Munchkin     https://reddit.com/r/Munchkin  2s6ol   \n",
       "\n",
       "         name  subscribers  \n",
       "806  t5_2xxvg        114.0  \n",
       "865  t5_2rany      67809.0  \n",
       "811  t5_2to85      43030.0  \n",
       "462  t5_2t04e        161.0  \n",
       "568  t5_2s6ol       6788.0  "
      ]
     },
     "execution_count": 16,
     "metadata": {},
     "output_type": "execute_result"
    }
   ],
   "source": [
    "subreddits.sample(5)"
   ]
  },
  {
   "cell_type": "markdown",
   "metadata": {},
   "source": [
    "testing efficiency..."
   ]
  },
  {
   "cell_type": "raw",
   "metadata": {},
   "source": [
    "%timeit()\n",
    "try: subreddit._fetch()\n",
    "except: pass"
   ]
  },
  {
   "cell_type": "raw",
   "metadata": {},
   "source": [
    "%timeit()\n",
    "try: subreddit.name\n",
    "except: pass"
   ]
  },
  {
   "cell_type": "raw",
   "metadata": {},
   "source": [
    "%timeit()\n",
    "try:\n",
    "    df = df.append({\n",
    "        'display_name':subreddit.display_name,\n",
    "        'subscribers':subreddit.subscribers,\n",
    "        'name':subreddit.name,\n",
    "        'id':subreddit.id,\n",
    "        'title':subreddit.title\n",
    "    }, ignore_index=True)\n",
    "except: pass"
   ]
  },
  {
   "cell_type": "markdown",
   "metadata": {},
   "source": [
    "What other subreddit-level metadata can we fetch?"
   ]
  },
  {
   "cell_type": "code",
   "execution_count": 17,
   "metadata": {},
   "outputs": [],
   "source": [
    "hi = reddit.subreddit('hellointernet')"
   ]
  },
  {
   "cell_type": "code",
   "execution_count": 18,
   "metadata": {},
   "outputs": [
    {
     "data": {
      "text/plain": [
       "['MESSAGE_PREFIX',\n",
       " 'STR_FIELD',\n",
       " 'VALID_TIME_FILTERS',\n",
       " '__class__',\n",
       " '__delattr__',\n",
       " '__dict__',\n",
       " '__dir__',\n",
       " '__doc__',\n",
       " '__eq__',\n",
       " '__format__',\n",
       " '__ge__',\n",
       " '__getattr__',\n",
       " '__getattribute__',\n",
       " '__gt__',\n",
       " '__hash__',\n",
       " '__init__',\n",
       " '__init_subclass__',\n",
       " '__le__',\n",
       " '__lt__',\n",
       " '__module__',\n",
       " '__ne__',\n",
       " '__new__',\n",
       " '__reduce__',\n",
       " '__reduce_ex__',\n",
       " '__repr__',\n",
       " '__setattr__',\n",
       " '__sizeof__',\n",
       " '__str__',\n",
       " '__subclasshook__',\n",
       " '__weakref__',\n",
       " '_create_or_update',\n",
       " '_fetch',\n",
       " '_fetch_data',\n",
       " '_fetch_info',\n",
       " '_fetched',\n",
       " '_kind',\n",
       " '_path',\n",
       " '_reddit',\n",
       " '_reset_attributes',\n",
       " '_safely_add_arguments',\n",
       " '_submission_class',\n",
       " '_submit_media',\n",
       " '_subreddit_collections_class',\n",
       " '_subreddit_list',\n",
       " '_upload_media',\n",
       " '_url_parts',\n",
       " '_validate_time_filter',\n",
       " 'banned',\n",
       " 'collections',\n",
       " 'comments',\n",
       " 'contributor',\n",
       " 'controversial',\n",
       " 'display_name',\n",
       " 'emoji',\n",
       " 'filters',\n",
       " 'flair',\n",
       " 'fullname',\n",
       " 'gilded',\n",
       " 'hot',\n",
       " 'message',\n",
       " 'mod',\n",
       " 'moderator',\n",
       " 'modmail',\n",
       " 'muted',\n",
       " 'new',\n",
       " 'parse',\n",
       " 'quaran',\n",
       " 'random',\n",
       " 'random_rising',\n",
       " 'rising',\n",
       " 'rules',\n",
       " 'search',\n",
       " 'sticky',\n",
       " 'stream',\n",
       " 'stylesheet',\n",
       " 'submit',\n",
       " 'submit_image',\n",
       " 'submit_video',\n",
       " 'subscribe',\n",
       " 'top',\n",
       " 'traffic',\n",
       " 'unsubscribe',\n",
       " 'widgets',\n",
       " 'wiki']"
      ]
     },
     "execution_count": 18,
     "metadata": {},
     "output_type": "execute_result"
    }
   ],
   "source": [
    "dir(hi)"
   ]
  },
  {
   "cell_type": "markdown",
   "metadata": {},
   "source": [
    "### Output subreddits table"
   ]
  },
  {
   "cell_type": "code",
   "execution_count": 34,
   "metadata": {},
   "outputs": [],
   "source": [
    "subreddits.to_csv(\"subreddits.csv\", index=False)"
   ]
  }
 ],
 "metadata": {
  "kernelspec": {
   "display_name": "Python 3",
   "language": "python",
   "name": "python3"
  },
  "language_info": {
   "codemirror_mode": {
    "name": "ipython",
    "version": 3
   },
   "file_extension": ".py",
   "mimetype": "text/x-python",
   "name": "python",
   "nbconvert_exporter": "python",
   "pygments_lexer": "ipython3",
   "version": "3.6.4"
  }
 },
 "nbformat": 4,
 "nbformat_minor": 2
}
