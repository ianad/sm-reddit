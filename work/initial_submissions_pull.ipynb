{
 "cells": [
  {
   "cell_type": "code",
   "execution_count": null,
   "metadata": {},
   "outputs": [],
   "source": [
    "import praw\n",
    "import pandas as pd\n",
    "import numpy as np\n",
    "from bs4 import BeautifulSoup\n",
    "from _secrets import user_agent, client_id, client_secret\n",
    "from tqdm import tqdm"
   ]
  },
  {
   "cell_type": "code",
   "execution_count": null,
   "metadata": {},
   "outputs": [],
   "source": [
    "subreddits = pd.read_csv('subreddits.csv')"
   ]
  },
  {
   "cell_type": "code",
   "execution_count": null,
   "metadata": {},
   "outputs": [],
   "source": [
    "reddit = praw.Reddit(user_agent=user_agent,\n",
    "                     client_id=client_id,\n",
    "                     client_secret=client_secret)"
   ]
  },
  {
   "cell_type": "markdown",
   "metadata": {},
   "source": [
    "What submission-level metadata should we collect?"
   ]
  },
  {
   "cell_type": "code",
   "execution_count": null,
   "metadata": {},
   "outputs": [],
   "source": [
    "submission = reddit.subreddit('leagueoflegends').random()\n",
    "print(dir(submission))"
   ]
  },
  {
   "cell_type": "markdown",
   "metadata": {},
   "source": [
    "# Build submissions database"
   ]
  },
  {
   "cell_type": "raw",
   "metadata": {},
   "source": [
    "dir([c for c in hi.comments()][0])"
   ]
  },
  {
   "cell_type": "markdown",
   "metadata": {},
   "source": [
    "### Collect top 10 submissions from each subreddit"
   ]
  },
  {
   "cell_type": "code",
   "execution_count": null,
   "metadata": {},
   "outputs": [],
   "source": [
    "df = pd.DataFrame()\n",
    "attrs = ('subreddit','subreddit_id','title','id','fullname','name','author_name', 'upvotes','downvotes','score', 'num_comments', 'gilded',\n",
    " 'domain', 'likes','edited','media','media_embed','media_only','mod_note','author_id','author_fullname','clicked','selftext')\n",
    "\n",
    "for display_name in subreddits['display_name']:\n",
    "    subreddit = reddit.subreddit(display_name)\n",
    "    top_submissions = subreddit.top(limit=10)\n",
    "    \n",
    "    for submission in tqdm(top_submissions, desc=display_name):\n",
    "        series = dict()\n",
    "        \n",
    "        for a in attrs:\n",
    "            try: series[a] = getattr(submission, a)\n",
    "            except: series[a] = np.nan\n",
    "                \n",
    "        df = df.append(series, ignore_index=True)\n",
    "        #    print(submission.fullname, e)"
   ]
  },
  {
   "cell_type": "code",
   "execution_count": null,
   "metadata": {},
   "outputs": [],
   "source": [
    "submissions = df\n",
    "submissions.sample(5)"
   ]
  },
  {
   "cell_type": "markdown",
   "metadata": {},
   "source": [
    "### Output submmisions table"
   ]
  },
  {
   "cell_type": "code",
   "execution_count": null,
   "metadata": {},
   "outputs": [],
   "source": [
    "submissions.to_csv(\"submissions.csv\", index=False)"
   ]
  },
  {
   "cell_type": "markdown",
   "metadata": {},
   "source": [
    "## Superfluous code cells"
   ]
  },
  {
   "cell_type": "raw",
   "metadata": {},
   "source": [
    "[(s.title, s.author, s.score, s.id, s.name) for s in hi.top(limit=9)]"
   ]
  },
  {
   "cell_type": "raw",
   "metadata": {},
   "source": [
    "display_name = 'leagueoflegends'\n",
    "for submission in reddit.subreddit(display_name).hot(limit=25):\n",
    "    print((submission.title, submission.author, submission.score, submission.id, submission.name))\n",
    "    "
   ]
  },
  {
   "cell_type": "markdown",
   "metadata": {},
   "source": [
    "available submission-level metadata:"
   ]
  },
  {
   "cell_type": "raw",
   "metadata": {},
   "source": [
    "dir(submission)"
   ]
  },
  {
   "cell_type": "raw",
   "metadata": {},
   "source": [
    "submissions = pd.DataFrame({'title':[]})\n",
    "submissions"
   ]
  },
  {
   "cell_type": "raw",
   "metadata": {},
   "source": [
    "for display_name in subreddits['display_name']:\n",
    "    subreddit = reddit.subreddit(display_name)\n",
    "    try:\n",
    "        new_submissions = [submission.title for submission in subreddit.top(limit=1)]\n",
    "        submissions['title'] = submissions['title'].append(pd.Series(new_submissions), ignore_index=True)\n",
    "    except Exception as e:\n",
    "        print(display_name, e)"
   ]
  },
  {
   "cell_type": "raw",
   "metadata": {},
   "source": [
    "submissions['title'] = submissions['title'].append(pd.Series([s.title for s in reddit.subreddit('HelloInternet').top(limit=1)]), ignore_index=True)"
   ]
  },
  {
   "cell_type": "raw",
   "metadata": {},
   "source": [
    "submissions"
   ]
  },
  {
   "cell_type": "raw",
   "metadata": {},
   "source": []
  },
  {
   "cell_type": "raw",
   "metadata": {},
   "source": [
    "try:\n",
    "    reddit.subreddit('lounge').fetch()\n",
    "except as e:\n",
    "    print(type(e))"
   ]
  },
  {
   "cell_type": "raw",
   "metadata": {},
   "source": [
    "submissions['title'] = [[submission.title for submission in reddit.subreddit(display_name).top(limit=25)] for display_name in subreddits['display_name']]"
   ]
  },
  {
   "cell_type": "raw",
   "metadata": {},
   "source": [
    "for submission in reddit.subreddit('leagueoflegends').top(limit=25):\n",
    "    print(submission.title)\n",
    "    print(submission)"
   ]
  },
  {
   "cell_type": "raw",
   "metadata": {},
   "source": []
  },
  {
   "cell_type": "raw",
   "metadata": {},
   "source": []
  },
  {
   "cell_type": "raw",
   "metadata": {},
   "source": [
    "url = 'https://www.reddit.com/r/gaming/wiki/list-sorted-by-subscribers'\n",
    "page = requests.get(url)\n",
    "page"
   ]
  },
  {
   "cell_type": "raw",
   "metadata": {},
   "source": [
    "soup = BeautifulSoup(page.text)\n",
    "soup"
   ]
  },
  {
   "cell_type": "raw",
   "metadata": {},
   "source": [
    "table = soup.find('table')\n",
    "table"
   ]
  }
 ],
 "metadata": {
  "kernelspec": {
   "display_name": "Python 3",
   "language": "python",
   "name": "python3"
  },
  "language_info": {
   "codemirror_mode": {
    "name": "ipython",
    "version": 3
   },
   "file_extension": ".py",
   "mimetype": "text/x-python",
   "name": "python",
   "nbconvert_exporter": "python",
   "pygments_lexer": "ipython3",
   "version": "3.6.4"
  }
 },
 "nbformat": 4,
 "nbformat_minor": 2
}
